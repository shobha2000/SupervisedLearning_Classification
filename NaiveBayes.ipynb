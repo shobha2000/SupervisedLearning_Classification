{
 "cells": [
  {
   "cell_type": "markdown",
   "metadata": {},
   "source": [
    "# Naive Bayes Algorithm:"
   ]
  },
  {
   "cell_type": "raw",
   "metadata": {},
   "source": [
    "Import the required Libraries:"
   ]
  },
  {
   "cell_type": "code",
   "execution_count": 1,
   "metadata": {},
   "outputs": [],
   "source": [
    "import numpy as np\n",
    "import pandas as pd\n",
    "import matplotlib.pyplot as plt"
   ]
  },
  {
   "cell_type": "raw",
   "metadata": {},
   "source": [
    "function to load the dataset from a CSV file"
   ]
  },
  {
   "cell_type": "code",
   "execution_count": 2,
   "metadata": {},
   "outputs": [],
   "source": [
    "def load_dataset(gender_submission):\n",
    "    dataset = pd.read_csv(gender_submission)\n",
    "    X = dataset.iloc[:, :-1].values\n",
    "    y = dataset.iloc[:, -1].values\n",
    "    return X, y"
   ]
  },
  {
   "cell_type": "raw",
   "metadata": {},
   "source": [
    "split the dataset into training and testing sets(e.g., 70:30) "
   ]
  },
  {
   "cell_type": "code",
   "execution_count": 3,
   "metadata": {},
   "outputs": [],
   "source": [
    "def train_test_split(X, y, test_ratio=0.3, random_state=42):\n",
    "    np.random.seed(random_state)\n",
    "    shuffled_indices = np.random.permutation(len(X))\n",
    "    test_size = int(len(X) * test_ratio)\n",
    "    test_indices = shuffled_indices[:test_size]\n",
    "    train_indices = shuffled_indices[test_size:]\n",
    "    X_train, y_train = X[train_indices], y[train_indices]\n",
    "    X_test, y_test = X[test_indices], y[test_indices]\n",
    "    return X_train, X_test, y_train, y_test\n"
   ]
  },
  {
   "cell_type": "raw",
   "metadata": {},
   "source": [
    "define the Naive Bayes classifier class: This class will have methods for training the model and making predictions."
   ]
  },
  {
   "cell_type": "code",
   "execution_count": 4,
   "metadata": {},
   "outputs": [],
   "source": [
    "class NaiveBayesClassifier:\n",
    "    def __init__(self):\n",
    "        self.classes = None\n",
    "        self.class_priors = None\n",
    "        self.mean = None\n",
    "        self.variance = None\n",
    "    \n",
    "    def fit(self, X, y):\n",
    "        self.classes = np.unique(y)\n",
    "        self.class_priors = np.zeros(len(self.classes))\n",
    "        self.mean = np.zeros((len(self.classes), X.shape[1]))\n",
    "        self.variance = np.zeros((len(self.classes), X.shape[1]))\n",
    "        \n",
    "        for i, c in enumerate(self.classes):\n",
    "            X_c = X[y == c]\n",
    "            self.class_priors[i] = len(X_c) / len(X)\n",
    "            self.mean[i] = X_c.mean(axis=0)\n",
    "            self.variance[i] = X_c.var(axis=0)\n",
    "    \n",
    "    def _calculate_likelihood(self, X, class_index):\n",
    "        likelihood = np.exp(-((X - self.mean[class_index]) ** 2) / (2 * self.variance[class_index]))\n",
    "        return likelihood.prod(axis=1)\n",
    "    \n",
    "    def predict(self, X):\n",
    "        posteriors = []\n",
    "        \n",
    "        for i, c in enumerate(self.classes):\n",
    "            prior = np.log(self.class_priors[i])\n",
    "            likelihood = np.log(self._calculate_likelihood(X, i))\n",
    "            posterior = prior + likelihood\n",
    "            posteriors.append(posterior)\n",
    "        \n",
    "        posteriors = np.array(posteriors)\n",
    "        return self.classes[np.argmax(posteriors, axis=0)]"
   ]
  },
  {
   "cell_type": "raw",
   "metadata": {},
   "source": [
    "Finally, we'll put everything together in a main function:"
   ]
  },
  {
   "cell_type": "code",
   "execution_count": 8,
   "metadata": {},
   "outputs": [
    {
     "name": "stdout",
     "output_type": "stream",
     "text": [
      "Accuracy: 0.672\n"
     ]
    },
    {
     "data": {
      "image/png": "[encoded data removed]",
      "text/plain": [
       "<Figure size 432x288 with 1 Axes>"
      ]
     },
     "metadata": {
      "needs_background": "light"
     },
     "output_type": "display_data"
    }
   ],
   "source": [
    "def main():\n",
    "    # Load dataset\n",
    "    filename = \"gender_submission.csv\"\n",
    "    X, y = load_dataset(filename)\n",
    "    \n",
    "    # Split dataset into training and testing sets\n",
    "    X_train, X_test, y_train, y_test = train_test_split(X, y)\n",
    "    \n",
    "    # Train the Naive Bayes classifier\n",
    "    classifier = NaiveBayesClassifier()\n",
    "    classifier.fit(X_train, y_train)\n",
    "    \n",
    "    # Make predictions on the test set\n",
    "    y_pred = classifier.predict(X_test)\n",
    "    \n",
    "    # Evaluate the classifier\n",
    "    accuracy = (y_pred == y_test).mean()\n",
    "    print(\"Accuracy:\", accuracy)\n",
    "    \n",
    "    # Visualize the data and predictions\n",
    "    plt.scatter(X_test[:, 0], X_test[:, ], c=y_pred, cmap=\"plasma\")\n",
    "    plt.xlabel(\"X1\")\n",
    "    plt.ylabel(\"X2\")\n",
    "    plt.title(\"Naive Bayes Classifier\")\n",
    "    plt.show()\n",
    "\n",
    "if __name__ == \"__main__\":\n",
    "    main()"
   ]
  },
  {
   "cell_type": "code",
   "execution_count": null,
   "metadata": {},
   "outputs": [],
   "source": []
  }
 ],
 "metadata": {
  "kernelspec": {
   "display_name": "Python 3",
   "language": "python",
   "name": "python3"
  },
  "language_info": {
   "codemirror_mode": {
    "name": "ipython",
    "version": 3
   },
   "file_extension": ".py",
   "mimetype": "text/x-python",
   "name": "python",
   "nbconvert_exporter": "python",
   "pygments_lexer": "ipython3",
   "version": "3.8.5"
  }
 },
 "nbformat": 4,
 "nbformat_minor": 4
}
